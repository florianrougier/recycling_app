{
  "nbformat": 4,
  "nbformat_minor": 0,
  "metadata": {
    "colab": {
      "name": "trashclassify.ipynb",
      "provenance": [],
      "collapsed_sections": []
    },
    "kernelspec": {
      "name": "python3",
      "display_name": "Python 3"
    },
    "accelerator": "GPU"
  },
  "cells": [
    {
      "cell_type": "code",
      "metadata": {
        "id": "bLsCftUfYkZK",
        "colab_type": "code",
        "colab": {
          "base_uri": "https://localhost:8080/",
          "height": 34
        },
        "outputId": "73c5ddbe-b25b-4964-ab17-0f226fd949af"
      },
      "source": [
        "#%cd \"/My Drive/Colab Notebooks/Syraj-Homework\"\n",
        "%cd /content/drive/My Drive/Colab Notebooks/Syraj-Homework/"
      ],
      "execution_count": 1,
      "outputs": [
        {
          "output_type": "stream",
          "text": [
            "/content/drive/My Drive/Colab Notebooks/Syraj-Homework\n"
          ],
          "name": "stdout"
        }
      ]
    },
    {
      "cell_type": "code",
      "metadata": {
        "id": "seEbGsYmJ56T",
        "colab_type": "code",
        "colab": {
          "base_uri": "https://localhost:8080/",
          "height": 34
        },
        "outputId": "0f805b52-89ed-4bf7-84b3-52e82245d39e"
      },
      "source": [
        "from google.colab import drive\n",
        "drive.mount('/content/drive')"
      ],
      "execution_count": 2,
      "outputs": [
        {
          "output_type": "stream",
          "text": [
            "Drive already mounted at /content/drive; to attempt to forcibly remount, call drive.mount(\"/content/drive\", force_remount=True).\n"
          ],
          "name": "stdout"
        }
      ]
    },
    {
      "cell_type": "code",
      "metadata": {
        "id": "3O0kDx4q6mbA",
        "colab_type": "code",
        "colab": {}
      },
      "source": [
        "img_height = 192\n",
        "img_width =  256\n",
        "model_name = 'model_2.h5'"
      ],
      "execution_count": 0,
      "outputs": []
    },
    {
      "cell_type": "code",
      "metadata": {
        "id": "SqhuyR0ya44d",
        "colab_type": "code",
        "outputId": "a6dd0984-2488-49bf-a913-61e8be46568a",
        "colab": {
          "base_uri": "https://localhost:8080/",
          "height": 68
        }
      },
      "source": [
        "# %%\n",
        "from keras.preprocessing.image import ImageDataGenerator\n",
        "\n",
        "train_datagen = ImageDataGenerator(\n",
        "    rotation_range = 90,\n",
        "    width_shift_range = 0.2,\n",
        "    height_shift_range = 0.2,\n",
        "    rescale = 1./255,\n",
        "    shear_range = 0.2,\n",
        "    zoom_range = 0.2,\n",
        "    horizontal_flip = True,\n",
        "    fill_mode='nearest',\n",
        "    dtype = 'float32'\n",
        ")\n",
        "\n",
        "test_datagen = ImageDataGenerator(rescale=1./255)\n",
        "\n",
        "train_generator = train_datagen.flow_from_directory(\n",
        "                'dataset/train',\n",
        "                target_size=(img_height, img_width),\n",
        "                batch_size = 64,\n",
        ")\n",
        "validation_generator = test_datagen.flow_from_directory(\n",
        "                'dataset/validation',\n",
        "                target_size=(img_height, img_width),\n",
        "                batch_size=64,\n",
        ")"
      ],
      "execution_count": 4,
      "outputs": [
        {
          "output_type": "stream",
          "text": [
            "Using TensorFlow backend.\n"
          ],
          "name": "stderr"
        },
        {
          "output_type": "stream",
          "text": [
            "Found 2290 images belonging to 5 classes.\n",
            "Found 100 images belonging to 5 classes.\n"
          ],
          "name": "stdout"
        }
      ]
    },
    {
      "cell_type": "markdown",
      "metadata": {
        "id": "VvCqaBd-fhiq",
        "colab_type": "text"
      },
      "source": [
        ""
      ]
    },
    {
      "cell_type": "code",
      "metadata": {
        "id": "pomh4Y__a8_e",
        "colab_type": "code",
        "colab": {
          "base_uri": "https://localhost:8080/",
          "height": 326
        },
        "outputId": "f50d307a-2fe4-4c2d-f073-02296f9633f9"
      },
      "source": [
        "from keras.models import Model\n",
        "from keras.layers import Conv2D, Flatten, Dense, MaxPooling2D, Dropout, Input\n",
        "from keras.optimizers import Adam, Adadelta\n",
        "\n",
        "input = Input(shape=(img_height, img_width, 3))\n",
        "\n",
        "\n",
        "x = Conv2D(32, (3,3), activation='relu', padding='same')(input)\n",
        "x = Conv2D(32, (3,3), activation='relu', padding='same')(x)\n",
        "x = MaxPooling2D((2,2))(x)\n",
        "\n",
        "x = Conv2D(32, (3,3), activation='relu', padding='same')(x)\n",
        "x = Conv2D(32, (3,3), activation='relu', padding='same')(x)\n",
        "x = MaxPooling2D((2,2))(x)\n",
        "\n",
        "x = Conv2D(64, (3,3), activation='relu', padding='same')(x)\n",
        "x = Conv2D(64, (3,3), activation='relu', padding='same')(x)\n",
        "x = MaxPooling2D((2,2))(x)\n",
        "\n",
        "x = Conv2D(64, (3,3), activation='relu', padding='same')(x)\n",
        "x = Conv2D(64, (3,3), activation='relu', padding='same')(x)\n",
        "x = MaxPooling2D((2,2))(x)\n",
        "\n",
        "x = Conv2D(128, (3,3), activation='relu', padding='same')(x)\n",
        "x = Conv2D(128, (3,3), activation='relu', padding='same')(x)\n",
        "x = MaxPooling2D((2,2))(x)\n",
        "\n",
        "x = Flatten()(x) # turns the output of the cnn into a 1D vector to be feed into fully connected layers\n",
        "x = Dense(512, activation='relu')(x)\n",
        "x = Dropout(0.2)(x) #to avoid overfitting\n",
        "x = Dense(512, activation='relu')(x)\n",
        "x = Dropout(0.2)(x)\n",
        "out = Dense(5, activation='softmax')(x)\n",
        "\n",
        "classifier = Model(input, out)\n",
        "classifier.compile(optimizer='adam', loss='categorical_crossentropy', metrics=['accuracy'])"
      ],
      "execution_count": 5,
      "outputs": [
        {
          "output_type": "stream",
          "text": [
            "WARNING:tensorflow:From /usr/local/lib/python3.6/dist-packages/keras/backend/tensorflow_backend.py:66: The name tf.get_default_graph is deprecated. Please use tf.compat.v1.get_default_graph instead.\n",
            "\n",
            "WARNING:tensorflow:From /usr/local/lib/python3.6/dist-packages/keras/backend/tensorflow_backend.py:541: The name tf.placeholder is deprecated. Please use tf.compat.v1.placeholder instead.\n",
            "\n",
            "WARNING:tensorflow:From /usr/local/lib/python3.6/dist-packages/keras/backend/tensorflow_backend.py:4432: The name tf.random_uniform is deprecated. Please use tf.random.uniform instead.\n",
            "\n",
            "WARNING:tensorflow:From /usr/local/lib/python3.6/dist-packages/keras/backend/tensorflow_backend.py:4267: The name tf.nn.max_pool is deprecated. Please use tf.nn.max_pool2d instead.\n",
            "\n",
            "WARNING:tensorflow:From /usr/local/lib/python3.6/dist-packages/keras/backend/tensorflow_backend.py:148: The name tf.placeholder_with_default is deprecated. Please use tf.compat.v1.placeholder_with_default instead.\n",
            "\n",
            "WARNING:tensorflow:From /usr/local/lib/python3.6/dist-packages/keras/backend/tensorflow_backend.py:3733: calling dropout (from tensorflow.python.ops.nn_ops) with keep_prob is deprecated and will be removed in a future version.\n",
            "Instructions for updating:\n",
            "Please use `rate` instead of `keep_prob`. Rate should be set to `rate = 1 - keep_prob`.\n",
            "WARNING:tensorflow:From /usr/local/lib/python3.6/dist-packages/keras/optimizers.py:793: The name tf.train.Optimizer is deprecated. Please use tf.compat.v1.train.Optimizer instead.\n",
            "\n",
            "WARNING:tensorflow:From /usr/local/lib/python3.6/dist-packages/keras/backend/tensorflow_backend.py:3576: The name tf.log is deprecated. Please use tf.math.log instead.\n",
            "\n"
          ],
          "name": "stdout"
        }
      ]
    },
    {
      "cell_type": "code",
      "metadata": {
        "id": "PU5ODHzEeJP9",
        "colab_type": "code",
        "outputId": "b9300ec8-8b09-4e8e-8d48-a98a009228c3",
        "colab": {
          "base_uri": "https://localhost:8080/",
          "height": 901
        }
      },
      "source": [
        "classifier.summary()"
      ],
      "execution_count": 6,
      "outputs": [
        {
          "output_type": "stream",
          "text": [
            "Model: \"model_1\"\n",
            "_________________________________________________________________\n",
            "Layer (type)                 Output Shape              Param #   \n",
            "=================================================================\n",
            "input_1 (InputLayer)         (None, 192, 256, 3)       0         \n",
            "_________________________________________________________________\n",
            "conv2d_1 (Conv2D)            (None, 192, 256, 32)      896       \n",
            "_________________________________________________________________\n",
            "conv2d_2 (Conv2D)            (None, 192, 256, 32)      9248      \n",
            "_________________________________________________________________\n",
            "max_pooling2d_1 (MaxPooling2 (None, 96, 128, 32)       0         \n",
            "_________________________________________________________________\n",
            "conv2d_3 (Conv2D)            (None, 96, 128, 32)       9248      \n",
            "_________________________________________________________________\n",
            "conv2d_4 (Conv2D)            (None, 96, 128, 32)       9248      \n",
            "_________________________________________________________________\n",
            "max_pooling2d_2 (MaxPooling2 (None, 48, 64, 32)        0         \n",
            "_________________________________________________________________\n",
            "conv2d_5 (Conv2D)            (None, 48, 64, 64)        18496     \n",
            "_________________________________________________________________\n",
            "conv2d_6 (Conv2D)            (None, 48, 64, 64)        36928     \n",
            "_________________________________________________________________\n",
            "max_pooling2d_3 (MaxPooling2 (None, 24, 32, 64)        0         \n",
            "_________________________________________________________________\n",
            "conv2d_7 (Conv2D)            (None, 24, 32, 64)        36928     \n",
            "_________________________________________________________________\n",
            "conv2d_8 (Conv2D)            (None, 24, 32, 64)        36928     \n",
            "_________________________________________________________________\n",
            "max_pooling2d_4 (MaxPooling2 (None, 12, 16, 64)        0         \n",
            "_________________________________________________________________\n",
            "conv2d_9 (Conv2D)            (None, 12, 16, 128)       73856     \n",
            "_________________________________________________________________\n",
            "conv2d_10 (Conv2D)           (None, 12, 16, 128)       147584    \n",
            "_________________________________________________________________\n",
            "max_pooling2d_5 (MaxPooling2 (None, 6, 8, 128)         0         \n",
            "_________________________________________________________________\n",
            "flatten_1 (Flatten)          (None, 6144)              0         \n",
            "_________________________________________________________________\n",
            "dense_1 (Dense)              (None, 512)               3146240   \n",
            "_________________________________________________________________\n",
            "dropout_1 (Dropout)          (None, 512)               0         \n",
            "_________________________________________________________________\n",
            "dense_2 (Dense)              (None, 512)               262656    \n",
            "_________________________________________________________________\n",
            "dropout_2 (Dropout)          (None, 512)               0         \n",
            "_________________________________________________________________\n",
            "dense_3 (Dense)              (None, 5)                 2565      \n",
            "=================================================================\n",
            "Total params: 3,790,821\n",
            "Trainable params: 3,790,821\n",
            "Non-trainable params: 0\n",
            "_________________________________________________________________\n"
          ],
          "name": "stdout"
        }
      ]
    },
    {
      "cell_type": "code",
      "metadata": {
        "id": "nujThj5geMOM",
        "colab_type": "code",
        "outputId": "897bf05a-694b-4898-b211-55c530596ea2",
        "colab": {
          "base_uri": "https://localhost:8080/",
          "height": 1000
        }
      },
      "source": [
        "#TRAINING\n",
        "from keras.callbacks import ModelCheckpoint\n",
        "\n",
        "checkpointer = ModelCheckpoint(filepath=model_name,monitor='val_acc', verbose=0, save_best_only=True)\n",
        "\n",
        "hist_classifier = classifier.fit_generator(\n",
        "        train_generator,\n",
        "        steps_per_epoch=10,\n",
        "        epochs = 100,\n",
        "        callbacks=[checkpointer], #save the best weights with the model\n",
        "        validation_data=validation_generator,\n",
        "        validation_steps=10\n",
        ")"
      ],
      "execution_count": 7,
      "outputs": [
        {
          "output_type": "stream",
          "text": [
            "WARNING:tensorflow:From /usr/local/lib/python3.6/dist-packages/tensorflow/python/ops/math_grad.py:1250: add_dispatch_support.<locals>.wrapper (from tensorflow.python.ops.array_ops) is deprecated and will be removed in a future version.\n",
            "Instructions for updating:\n",
            "Use tf.where in 2.0, which has the same broadcast rule as np.where\n",
            "Epoch 1/100\n",
            "10/10 [==============================] - 17s 2s/step - loss: 1.6059 - acc: 0.2313 - val_loss: 1.6078 - val_acc: 0.2000\n",
            "Epoch 2/100\n",
            "10/10 [==============================] - 12s 1s/step - loss: 1.5934 - acc: 0.2439 - val_loss: 1.6106 - val_acc: 0.2000\n",
            "Epoch 3/100\n",
            "10/10 [==============================] - 12s 1s/step - loss: 1.6037 - acc: 0.2578 - val_loss: 1.6171 - val_acc: 0.2000\n",
            "Epoch 4/100\n",
            "10/10 [==============================] - 12s 1s/step - loss: 1.6017 - acc: 0.2422 - val_loss: 1.6145 - val_acc: 0.2000\n",
            "Epoch 5/100\n",
            "10/10 [==============================] - 12s 1s/step - loss: 1.6034 - acc: 0.2518 - val_loss: 1.6117 - val_acc: 0.2000\n",
            "Epoch 6/100\n",
            "10/10 [==============================] - 12s 1s/step - loss: 1.6009 - acc: 0.2500 - val_loss: 1.6120 - val_acc: 0.2000\n",
            "Epoch 7/100\n",
            "10/10 [==============================] - 12s 1s/step - loss: 1.5956 - acc: 0.2656 - val_loss: 1.5991 - val_acc: 0.2000\n",
            "Epoch 8/100\n",
            "10/10 [==============================] - 13s 1s/step - loss: 1.5527 - acc: 0.2797 - val_loss: 1.5486 - val_acc: 0.3600\n",
            "Epoch 9/100\n",
            "10/10 [==============================] - 12s 1s/step - loss: 1.5624 - acc: 0.2641 - val_loss: 1.5297 - val_acc: 0.3400\n",
            "Epoch 10/100\n",
            "10/10 [==============================] - 12s 1s/step - loss: 1.4705 - acc: 0.3128 - val_loss: 1.3835 - val_acc: 0.3600\n",
            "Epoch 11/100\n",
            "10/10 [==============================] - 12s 1s/step - loss: 1.4184 - acc: 0.3484 - val_loss: 1.3615 - val_acc: 0.3200\n",
            "Epoch 12/100\n",
            "10/10 [==============================] - 12s 1s/step - loss: 1.3800 - acc: 0.3469 - val_loss: 1.3848 - val_acc: 0.3600\n",
            "Epoch 13/100\n",
            "10/10 [==============================] - 12s 1s/step - loss: 1.4116 - acc: 0.3641 - val_loss: 1.3258 - val_acc: 0.3900\n",
            "Epoch 14/100\n",
            "10/10 [==============================] - 12s 1s/step - loss: 1.3969 - acc: 0.3500 - val_loss: 1.3969 - val_acc: 0.3300\n",
            "Epoch 15/100\n",
            "10/10 [==============================] - 12s 1s/step - loss: 1.4254 - acc: 0.3203 - val_loss: 1.3965 - val_acc: 0.3400\n",
            "Epoch 16/100\n",
            "10/10 [==============================] - 12s 1s/step - loss: 1.4221 - acc: 0.3266 - val_loss: 1.3695 - val_acc: 0.3500\n",
            "Epoch 17/100\n",
            "10/10 [==============================] - 12s 1s/step - loss: 1.3626 - acc: 0.3438 - val_loss: 1.4188 - val_acc: 0.3400\n",
            "Epoch 18/100\n",
            "10/10 [==============================] - 12s 1s/step - loss: 1.3722 - acc: 0.3457 - val_loss: 1.3323 - val_acc: 0.3500\n",
            "Epoch 19/100\n",
            "10/10 [==============================] - 12s 1s/step - loss: 1.3653 - acc: 0.3598 - val_loss: 1.3666 - val_acc: 0.3800\n",
            "Epoch 20/100\n",
            "10/10 [==============================] - 12s 1s/step - loss: 1.3744 - acc: 0.3609 - val_loss: 1.3342 - val_acc: 0.3600\n",
            "Epoch 21/100\n",
            "10/10 [==============================] - 12s 1s/step - loss: 1.4356 - acc: 0.3438 - val_loss: 1.3556 - val_acc: 0.3900\n",
            "Epoch 22/100\n",
            "10/10 [==============================] - 12s 1s/step - loss: 1.3649 - acc: 0.3672 - val_loss: 1.3306 - val_acc: 0.3400\n",
            "Epoch 23/100\n",
            "10/10 [==============================] - 12s 1s/step - loss: 1.3775 - acc: 0.3457 - val_loss: 1.3482 - val_acc: 0.4200\n",
            "Epoch 24/100\n",
            "10/10 [==============================] - 12s 1s/step - loss: 1.3158 - acc: 0.3812 - val_loss: 1.3741 - val_acc: 0.3700\n",
            "Epoch 25/100\n",
            "10/10 [==============================] - 12s 1s/step - loss: 1.3766 - acc: 0.4078 - val_loss: 1.3085 - val_acc: 0.4200\n",
            "Epoch 26/100\n",
            "10/10 [==============================] - 13s 1s/step - loss: 1.3959 - acc: 0.3625 - val_loss: 1.3253 - val_acc: 0.3600\n",
            "Epoch 27/100\n",
            "10/10 [==============================] - 12s 1s/step - loss: 1.4033 - acc: 0.3875 - val_loss: 1.3508 - val_acc: 0.3800\n",
            "Epoch 28/100\n",
            "10/10 [==============================] - 12s 1s/step - loss: 1.3508 - acc: 0.3609 - val_loss: 1.2833 - val_acc: 0.4200\n",
            "Epoch 29/100\n",
            "10/10 [==============================] - 12s 1s/step - loss: 1.3690 - acc: 0.4209 - val_loss: 1.3863 - val_acc: 0.4000\n",
            "Epoch 30/100\n",
            "10/10 [==============================] - 12s 1s/step - loss: 1.3539 - acc: 0.4094 - val_loss: 1.3182 - val_acc: 0.4200\n",
            "Epoch 31/100\n",
            "10/10 [==============================] - 12s 1s/step - loss: 1.2913 - acc: 0.4281 - val_loss: 1.3306 - val_acc: 0.3900\n",
            "Epoch 32/100\n",
            "10/10 [==============================] - 12s 1s/step - loss: 1.3927 - acc: 0.3422 - val_loss: 1.3813 - val_acc: 0.3700\n",
            "Epoch 33/100\n",
            "10/10 [==============================] - 12s 1s/step - loss: 1.3800 - acc: 0.4047 - val_loss: 1.3459 - val_acc: 0.4100\n",
            "Epoch 34/100\n",
            "10/10 [==============================] - 12s 1s/step - loss: 1.3774 - acc: 0.3797 - val_loss: 1.3120 - val_acc: 0.4000\n",
            "Epoch 35/100\n",
            "10/10 [==============================] - 12s 1s/step - loss: 1.2998 - acc: 0.4295 - val_loss: 1.3440 - val_acc: 0.3800\n",
            "Epoch 36/100\n",
            "10/10 [==============================] - 12s 1s/step - loss: 1.3690 - acc: 0.3875 - val_loss: 1.5106 - val_acc: 0.3500\n",
            "Epoch 37/100\n",
            "10/10 [==============================] - 12s 1s/step - loss: 1.3394 - acc: 0.3953 - val_loss: 1.3904 - val_acc: 0.4200\n",
            "Epoch 38/100\n",
            "10/10 [==============================] - 12s 1s/step - loss: 1.2664 - acc: 0.4405 - val_loss: 1.3379 - val_acc: 0.4000\n",
            "Epoch 39/100\n",
            "10/10 [==============================] - 12s 1s/step - loss: 1.2380 - acc: 0.4531 - val_loss: 1.3369 - val_acc: 0.4300\n",
            "Epoch 40/100\n",
            "10/10 [==============================] - 12s 1s/step - loss: 1.2519 - acc: 0.4688 - val_loss: 1.3033 - val_acc: 0.3900\n",
            "Epoch 41/100\n",
            "10/10 [==============================] - 12s 1s/step - loss: 1.2874 - acc: 0.4405 - val_loss: 1.3005 - val_acc: 0.4100\n",
            "Epoch 42/100\n",
            "10/10 [==============================] - 12s 1s/step - loss: 1.2531 - acc: 0.4547 - val_loss: 1.3056 - val_acc: 0.4300\n",
            "Epoch 43/100\n",
            "10/10 [==============================] - 12s 1s/step - loss: 1.2538 - acc: 0.4453 - val_loss: 1.3199 - val_acc: 0.4400\n",
            "Epoch 44/100\n",
            "10/10 [==============================] - 12s 1s/step - loss: 1.2178 - acc: 0.5039 - val_loss: 1.3672 - val_acc: 0.4000\n",
            "Epoch 45/100\n",
            "10/10 [==============================] - 12s 1s/step - loss: 1.3330 - acc: 0.4047 - val_loss: 1.2746 - val_acc: 0.4700\n",
            "Epoch 46/100\n",
            "10/10 [==============================] - 12s 1s/step - loss: 1.1808 - acc: 0.4797 - val_loss: 1.2658 - val_acc: 0.4300\n",
            "Epoch 47/100\n",
            "10/10 [==============================] - 12s 1s/step - loss: 1.2001 - acc: 0.4922 - val_loss: 1.3551 - val_acc: 0.3800\n",
            "Epoch 48/100\n",
            "10/10 [==============================] - 12s 1s/step - loss: 1.1880 - acc: 0.4813 - val_loss: 1.2482 - val_acc: 0.4500\n",
            "Epoch 49/100\n",
            "10/10 [==============================] - 11s 1s/step - loss: 1.2562 - acc: 0.5043 - val_loss: 1.2713 - val_acc: 0.4900\n",
            "Epoch 50/100\n",
            "10/10 [==============================] - 12s 1s/step - loss: 1.1420 - acc: 0.5109 - val_loss: 1.2806 - val_acc: 0.4700\n",
            "Epoch 51/100\n",
            "10/10 [==============================] - 12s 1s/step - loss: 1.2157 - acc: 0.4938 - val_loss: 1.2773 - val_acc: 0.3900\n",
            "Epoch 52/100\n",
            "10/10 [==============================] - 12s 1s/step - loss: 1.1708 - acc: 0.5094 - val_loss: 1.3188 - val_acc: 0.4300\n",
            "Epoch 53/100\n",
            "10/10 [==============================] - 12s 1s/step - loss: 1.2167 - acc: 0.4891 - val_loss: 1.2471 - val_acc: 0.4000\n",
            "Epoch 54/100\n",
            "10/10 [==============================] - 12s 1s/step - loss: 1.1805 - acc: 0.5036 - val_loss: 1.2849 - val_acc: 0.4800\n",
            "Epoch 55/100\n",
            "10/10 [==============================] - 12s 1s/step - loss: 1.1760 - acc: 0.5078 - val_loss: 1.2732 - val_acc: 0.4600\n",
            "Epoch 56/100\n",
            "10/10 [==============================] - 12s 1s/step - loss: 1.1453 - acc: 0.5203 - val_loss: 1.2233 - val_acc: 0.4600\n",
            "Epoch 57/100\n",
            "10/10 [==============================] - 12s 1s/step - loss: 1.2571 - acc: 0.4688 - val_loss: 1.2701 - val_acc: 0.5000\n",
            "Epoch 58/100\n",
            "10/10 [==============================] - 12s 1s/step - loss: 1.1619 - acc: 0.4922 - val_loss: 1.1971 - val_acc: 0.4900\n",
            "Epoch 59/100\n",
            "10/10 [==============================] - 12s 1s/step - loss: 1.1619 - acc: 0.5172 - val_loss: 1.2664 - val_acc: 0.4600\n",
            "Epoch 60/100\n",
            "10/10 [==============================] - 12s 1s/step - loss: 1.1500 - acc: 0.4906 - val_loss: 1.2229 - val_acc: 0.5000\n",
            "Epoch 61/100\n",
            "10/10 [==============================] - 11s 1s/step - loss: 1.1227 - acc: 0.5422 - val_loss: 1.2574 - val_acc: 0.4900\n",
            "Epoch 62/100\n",
            "10/10 [==============================] - 12s 1s/step - loss: 1.1189 - acc: 0.5422 - val_loss: 1.2960 - val_acc: 0.4300\n",
            "Epoch 63/100\n",
            "10/10 [==============================] - 11s 1s/step - loss: 1.1052 - acc: 0.5235 - val_loss: 1.3100 - val_acc: 0.4700\n",
            "Epoch 64/100\n",
            "10/10 [==============================] - 12s 1s/step - loss: 1.1593 - acc: 0.5234 - val_loss: 1.2400 - val_acc: 0.5000\n",
            "Epoch 65/100\n",
            "10/10 [==============================] - 12s 1s/step - loss: 1.1428 - acc: 0.5172 - val_loss: 1.2886 - val_acc: 0.4800\n",
            "Epoch 66/100\n",
            "10/10 [==============================] - 12s 1s/step - loss: 1.1498 - acc: 0.5422 - val_loss: 1.3029 - val_acc: 0.4400\n",
            "Epoch 67/100\n",
            "10/10 [==============================] - 12s 1s/step - loss: 1.1535 - acc: 0.5219 - val_loss: 1.2975 - val_acc: 0.5200\n",
            "Epoch 68/100\n",
            "10/10 [==============================] - 12s 1s/step - loss: 1.1434 - acc: 0.5266 - val_loss: 1.2218 - val_acc: 0.4700\n",
            "Epoch 69/100\n",
            "10/10 [==============================] - 11s 1s/step - loss: 1.0649 - acc: 0.5658 - val_loss: 1.2875 - val_acc: 0.5100\n",
            "Epoch 70/100\n",
            "10/10 [==============================] - 11s 1s/step - loss: 1.0935 - acc: 0.5493 - val_loss: 1.2120 - val_acc: 0.4500\n",
            "Epoch 71/100\n",
            "10/10 [==============================] - 12s 1s/step - loss: 1.1577 - acc: 0.5187 - val_loss: 1.3290 - val_acc: 0.4500\n",
            "Epoch 72/100\n",
            "10/10 [==============================] - 12s 1s/step - loss: 1.1487 - acc: 0.5297 - val_loss: 1.2282 - val_acc: 0.4300\n",
            "Epoch 73/100\n",
            "10/10 [==============================] - 12s 1s/step - loss: 1.0633 - acc: 0.5750 - val_loss: 1.2362 - val_acc: 0.4600\n",
            "Epoch 74/100\n",
            "10/10 [==============================] - 12s 1s/step - loss: 1.0456 - acc: 0.5609 - val_loss: 1.3327 - val_acc: 0.4800\n",
            "Epoch 75/100\n",
            "10/10 [==============================] - 12s 1s/step - loss: 1.1298 - acc: 0.5251 - val_loss: 1.2088 - val_acc: 0.5100\n",
            "Epoch 76/100\n",
            "10/10 [==============================] - 12s 1s/step - loss: 1.1433 - acc: 0.5344 - val_loss: 1.2013 - val_acc: 0.4200\n",
            "Epoch 77/100\n",
            "10/10 [==============================] - 12s 1s/step - loss: 1.1028 - acc: 0.5234 - val_loss: 1.2009 - val_acc: 0.4800\n",
            "Epoch 78/100\n",
            "10/10 [==============================] - 12s 1s/step - loss: 1.0790 - acc: 0.5687 - val_loss: 1.2746 - val_acc: 0.4700\n",
            "Epoch 79/100\n",
            "10/10 [==============================] - 12s 1s/step - loss: 1.0320 - acc: 0.6041 - val_loss: 1.3113 - val_acc: 0.4000\n",
            "Epoch 80/100\n",
            "10/10 [==============================] - 13s 1s/step - loss: 1.0192 - acc: 0.5859 - val_loss: 1.2620 - val_acc: 0.4700\n",
            "Epoch 81/100\n",
            "10/10 [==============================] - 12s 1s/step - loss: 1.0745 - acc: 0.5422 - val_loss: 1.2181 - val_acc: 0.5100\n",
            "Epoch 82/100\n",
            "10/10 [==============================] - 12s 1s/step - loss: 1.0406 - acc: 0.5822 - val_loss: 1.2482 - val_acc: 0.4500\n",
            "Epoch 83/100\n",
            "10/10 [==============================] - 12s 1s/step - loss: 1.0652 - acc: 0.5578 - val_loss: 1.3428 - val_acc: 0.4300\n",
            "Epoch 84/100\n",
            "10/10 [==============================] - 12s 1s/step - loss: 1.0580 - acc: 0.5672 - val_loss: 1.3327 - val_acc: 0.5100\n",
            "Epoch 85/100\n",
            "10/10 [==============================] - 12s 1s/step - loss: 1.0286 - acc: 0.5807 - val_loss: 1.3058 - val_acc: 0.4700\n",
            "Epoch 86/100\n",
            "10/10 [==============================] - 12s 1s/step - loss: 1.1931 - acc: 0.4891 - val_loss: 1.2725 - val_acc: 0.4300\n",
            "Epoch 87/100\n",
            "10/10 [==============================] - 12s 1s/step - loss: 1.1239 - acc: 0.5547 - val_loss: 1.1943 - val_acc: 0.4400\n",
            "Epoch 88/100\n",
            "10/10 [==============================] - 12s 1s/step - loss: 1.0123 - acc: 0.5719 - val_loss: 1.1970 - val_acc: 0.4400\n",
            "Epoch 89/100\n",
            "10/10 [==============================] - 12s 1s/step - loss: 1.1018 - acc: 0.5482 - val_loss: 1.2133 - val_acc: 0.4500\n",
            "Epoch 90/100\n",
            "10/10 [==============================] - 12s 1s/step - loss: 1.1177 - acc: 0.5516 - val_loss: 1.1344 - val_acc: 0.4700\n",
            "Epoch 91/100\n",
            "10/10 [==============================] - 12s 1s/step - loss: 0.9939 - acc: 0.5781 - val_loss: 1.2189 - val_acc: 0.4100\n",
            "Epoch 92/100\n",
            "10/10 [==============================] - 12s 1s/step - loss: 1.0943 - acc: 0.5484 - val_loss: 1.2046 - val_acc: 0.5000\n",
            "Epoch 93/100\n",
            "10/10 [==============================] - 12s 1s/step - loss: 1.0463 - acc: 0.5697 - val_loss: 1.1832 - val_acc: 0.4800\n",
            "Epoch 94/100\n",
            "10/10 [==============================] - 12s 1s/step - loss: 1.0423 - acc: 0.5609 - val_loss: 1.2354 - val_acc: 0.4600\n",
            "Epoch 95/100\n",
            "10/10 [==============================] - 12s 1s/step - loss: 1.0106 - acc: 0.5875 - val_loss: 1.2155 - val_acc: 0.4200\n",
            "Epoch 96/100\n",
            "10/10 [==============================] - 12s 1s/step - loss: 0.9896 - acc: 0.6000 - val_loss: 1.1678 - val_acc: 0.5400\n",
            "Epoch 97/100\n",
            "10/10 [==============================] - 11s 1s/step - loss: 0.9722 - acc: 0.6031 - val_loss: 1.3102 - val_acc: 0.4500\n",
            "Epoch 98/100\n",
            "10/10 [==============================] - 12s 1s/step - loss: 0.9473 - acc: 0.6201 - val_loss: 1.2162 - val_acc: 0.4200\n",
            "Epoch 99/100\n",
            "10/10 [==============================] - 12s 1s/step - loss: 0.9945 - acc: 0.6156 - val_loss: 1.1678 - val_acc: 0.4900\n",
            "Epoch 100/100\n",
            "10/10 [==============================] - 12s 1s/step - loss: 1.0287 - acc: 0.5687 - val_loss: 1.2916 - val_acc: 0.4400\n"
          ],
          "name": "stdout"
        }
      ]
    },
    {
      "cell_type": "code",
      "metadata": {
        "id": "kUlMC25kmqUJ",
        "colab_type": "code",
        "outputId": "70817614-772c-413f-e52d-c02732e7cd64",
        "colab": {
          "base_uri": "https://localhost:8080/",
          "height": 34
        }
      },
      "source": [
        "from keras.models import load_model\n",
        "mod = load_model(model_name)\n",
        "mod.evaluate_generator(validation_generator, steps=10)[1] #just the accuracy"
      ],
      "execution_count": 9,
      "outputs": [
        {
          "output_type": "execute_result",
          "data": {
            "text/plain": [
              "0.5400000007152558"
            ]
          },
          "metadata": {
            "tags": []
          },
          "execution_count": 9
        }
      ]
    },
    {
      "cell_type": "code",
      "metadata": {
        "id": "n85Pspwnze5_",
        "colab_type": "code",
        "colab": {}
      },
      "source": [
        "import glob\n",
        "import numpy as np\n",
        "import matplotlib.pyplot as plt\n",
        "from keras.preprocessing.image import img_to_array, load_img\n",
        "from keras.preprocessing.image import array_to_img\n",
        "\n",
        "\n",
        "test_input = []\n",
        "test_path = './dataset/test/trash/'\n",
        "label_name = ['cardboard','glass','metal','paper','plastic']\n",
        "\n",
        "for path in glob.glob(test_path + '*.jpg'):\n",
        "  tmp = load_img(path, target_size=(img_height,img_width))\n",
        "  tmp = img_to_array(tmp)\n",
        "  tmp = tmp.astype(dtype='float32')\n",
        "  tmp /= 255\n",
        "  test_input.append(tmp)\n",
        "\n",
        "test_input = np.reshape(test_input, (-1,img_height,img_width,3))\n",
        "output_data = classifier.predict(test_input)\n",
        "test_predict = np.argmax(output_data, axis=1)\n",
        "\n",
        "plt.figure(figsize=(20,40))\n",
        "for img in range(np.shape(output_data)[0]):\n",
        "  plt.subplot(10, 5, img+1)\n",
        "  plt.axis('off')\n",
        "  plt.title(label_name[test_predict[img]])\n",
        "  plt.imshow(array_to_img(test_input[img]))\n",
        "  if img == 49:\n",
        "    break"
      ],
      "execution_count": 0,
      "outputs": []
    },
    {
      "cell_type": "code",
      "metadata": {
        "id": "D0ovXYD5z_-C",
        "colab_type": "code",
        "colab": {}
      },
      "source": [
        "import matplotlib.pyplot as plt\n",
        "\n",
        "plt.plot(hist_classifier.history['loss'])\n",
        "plt.plot(hist_classifier.history['val_loss'])\n",
        "plt.title('model loss')\n",
        "plt.xlabel('loss')\n",
        "plt.ylabel('epochs')\n",
        "plt.legend(['train', 'test'], loc='upper right')\n",
        "plt.show()"
      ],
      "execution_count": 0,
      "outputs": []
    }
  ]
}